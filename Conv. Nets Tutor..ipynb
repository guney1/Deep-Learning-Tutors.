{
 "cells": [
  {
   "cell_type": "markdown",
   "metadata": {},
   "source": [
    "# How images represented"
   ]
  },
  {
   "cell_type": "markdown",
   "metadata": {},
   "source": [
    " - Image repres. in computer consist height and width, without colors signle image can be represented as a matrix, which is height X width. Thus when we have several images a batch representation is given by 3-d tensor which given by $(Batch size X height X width)$\n",
    " \n",
    " - We store colors as RGB which correspond to red, green and blue. We can create different colors using RGB thus a certain color can be represented as how much red, green and blue. Thus a single image with color can be represented as $height X width X depth(color\\ dimension)$ and a batch of images can be represented as 4-d tensor $(Batch size X height X width X depth)$, where depth is always 3 since we are using RGB to represent colors.\n",
    " \n",
    " - Considering images without colors, FFNN does not take 3-d tensors as inputs thus we flatten it out and make 2-d tensor. That is single image will have row vector represent. given by $(1,height\\cdot width)$"
   ]
  },
  {
   "cell_type": "markdown",
   "metadata": {},
   "source": [
    "# FFNN with MNIST(no colors)"
   ]
  },
  {
   "cell_type": "code",
   "execution_count": 1,
   "metadata": {
    "ExecuteTime": {
     "end_time": "2020-04-13T08:05:14.048738Z",
     "start_time": "2020-04-13T08:05:12.285180Z"
    }
   },
   "outputs": [
    {
     "name": "stdout",
     "output_type": "stream",
     "text": [
      "2.1.0\n"
     ]
    }
   ],
   "source": [
    "import numpy as np\n",
    "import tensorflow as tf\n",
    "print(tf.__version__)"
   ]
  },
  {
   "cell_type": "code",
   "execution_count": 2,
   "metadata": {
    "ExecuteTime": {
     "end_time": "2020-04-13T08:05:14.706825Z",
     "start_time": "2020-04-13T08:05:14.050867Z"
    }
   },
   "outputs": [
    {
     "name": "stdout",
     "output_type": "stream",
     "text": [
      "x_train.shape: (60000, 28, 28)\n"
     ]
    }
   ],
   "source": [
    "# Load in the data\n",
    "mnist = tf.keras.datasets.mnist\n",
    "\n",
    "(x_train, y_train), (x_test, y_test) = mnist.load_data()\n",
    "x_train, x_test = x_train / 255.0, x_test / 255.0 # scale them to between 0-1 by dividing max(X)\n",
    "print(\"x_train.shape:\", x_train.shape)# 3-d tensor with dims (instances, height, width) with 28x28=784 pixels"
   ]
  },
  {
   "cell_type": "code",
   "execution_count": 3,
   "metadata": {
    "ExecuteTime": {
     "end_time": "2020-04-13T08:05:14.819391Z",
     "start_time": "2020-04-13T08:05:14.708681Z"
    }
   },
   "outputs": [],
   "source": [
    "# Build the model\n",
    "model = tf.keras.models.Sequential([\n",
    "  tf.keras.layers.Flatten(input_shape=(28, 28)), # this can be done with np.reshape\n",
    "  tf.keras.layers.Dense(128, activation='relu'), # non-linearity\n",
    "  tf.keras.layers.Dropout(0.2), # regularization\n",
    "  tf.keras.layers.Dense(10, activation='softmax') # see below for softmax\n",
    "])"
   ]
  },
  {
   "cell_type": "code",
   "execution_count": 4,
   "metadata": {
    "ExecuteTime": {
     "end_time": "2020-04-13T08:05:14.848381Z",
     "start_time": "2020-04-13T08:05:14.821138Z"
    }
   },
   "outputs": [],
   "source": [
    "# Compile the model\n",
    "model.compile(optimizer='adam',\n",
    "              loss='sparse_categorical_crossentropy', # see below for sparse_cat_crossentrop.\n",
    "              metrics=['accuracy'])"
   ]
  },
  {
   "cell_type": "code",
   "execution_count": 5,
   "metadata": {
    "ExecuteTime": {
     "end_time": "2020-04-13T08:06:11.103153Z",
     "start_time": "2020-04-13T08:05:14.849936Z"
    }
   },
   "outputs": [
    {
     "name": "stdout",
     "output_type": "stream",
     "text": [
      "Train on 60000 samples, validate on 10000 samples\n",
      "Epoch 1/20\n",
      "60000/60000 [==============================] - 3s 50us/sample - loss: 0.2971 - accuracy: 0.9132 - val_loss: 0.1359 - val_accuracy: 0.9590\n",
      "Epoch 2/20\n",
      "60000/60000 [==============================] - 3s 47us/sample - loss: 0.1439 - accuracy: 0.9579 - val_loss: 0.0949 - val_accuracy: 0.9705\n",
      "Epoch 3/20\n",
      "60000/60000 [==============================] - 3s 52us/sample - loss: 0.1074 - accuracy: 0.9674 - val_loss: 0.0876 - val_accuracy: 0.9715\n",
      "Epoch 4/20\n",
      "60000/60000 [==============================] - 3s 50us/sample - loss: 0.0879 - accuracy: 0.9730 - val_loss: 0.0846 - val_accuracy: 0.9741\n",
      "Epoch 5/20\n",
      "60000/60000 [==============================] - 3s 48us/sample - loss: 0.0744 - accuracy: 0.9767 - val_loss: 0.0728 - val_accuracy: 0.9779\n",
      "Epoch 6/20\n",
      "60000/60000 [==============================] - 3s 48us/sample - loss: 0.0654 - accuracy: 0.9790 - val_loss: 0.0704 - val_accuracy: 0.9788\n",
      "Epoch 7/20\n",
      "60000/60000 [==============================] - 3s 48us/sample - loss: 0.0591 - accuracy: 0.9812 - val_loss: 0.0718 - val_accuracy: 0.9782\n",
      "Epoch 8/20\n",
      "60000/60000 [==============================] - 3s 46us/sample - loss: 0.0540 - accuracy: 0.9830 - val_loss: 0.0696 - val_accuracy: 0.9801\n",
      "Epoch 9/20\n",
      "60000/60000 [==============================] - 3s 47us/sample - loss: 0.0496 - accuracy: 0.9837 - val_loss: 0.0770 - val_accuracy: 0.9782\n",
      "Epoch 10/20\n",
      "60000/60000 [==============================] - 3s 44us/sample - loss: 0.0439 - accuracy: 0.9854 - val_loss: 0.0727 - val_accuracy: 0.9805\n",
      "Epoch 11/20\n",
      "60000/60000 [==============================] - 3s 45us/sample - loss: 0.0400 - accuracy: 0.9871 - val_loss: 0.0714 - val_accuracy: 0.9785\n",
      "Epoch 12/20\n",
      "60000/60000 [==============================] - 3s 44us/sample - loss: 0.0370 - accuracy: 0.9882 - val_loss: 0.0729 - val_accuracy: 0.9803\n",
      "Epoch 13/20\n",
      "60000/60000 [==============================] - 3s 42us/sample - loss: 0.0365 - accuracy: 0.9880 - val_loss: 0.0686 - val_accuracy: 0.9823\n",
      "Epoch 14/20\n",
      "60000/60000 [==============================] - 3s 42us/sample - loss: 0.0337 - accuracy: 0.9882 - val_loss: 0.0726 - val_accuracy: 0.9814\n",
      "Epoch 15/20\n",
      "60000/60000 [==============================] - 3s 42us/sample - loss: 0.0316 - accuracy: 0.9893 - val_loss: 0.0786 - val_accuracy: 0.9808\n",
      "Epoch 16/20\n",
      "60000/60000 [==============================] - 3s 45us/sample - loss: 0.0324 - accuracy: 0.9887 - val_loss: 0.0752 - val_accuracy: 0.9811\n",
      "Epoch 17/20\n",
      "60000/60000 [==============================] - 3s 46us/sample - loss: 0.0294 - accuracy: 0.9898 - val_loss: 0.0761 - val_accuracy: 0.9822\n",
      "Epoch 18/20\n",
      "60000/60000 [==============================] - 3s 51us/sample - loss: 0.0272 - accuracy: 0.9905 - val_loss: 0.0812 - val_accuracy: 0.9816\n",
      "Epoch 19/20\n",
      "60000/60000 [==============================] - 3s 54us/sample - loss: 0.0275 - accuracy: 0.9903 - val_loss: 0.0782 - val_accuracy: 0.9813\n",
      "Epoch 20/20\n",
      "60000/60000 [==============================] - 3s 47us/sample - loss: 0.0268 - accuracy: 0.9909 - val_loss: 0.0817 - val_accuracy: 0.9817\n"
     ]
    }
   ],
   "source": [
    "history = model.fit(x_train, y_train, validation_data = (x_test, y_test), epochs=20)"
   ]
  },
  {
   "cell_type": "markdown",
   "metadata": {},
   "source": [
    "## Output activation and Loss function"
   ]
  },
  {
   "cell_type": "markdown",
   "metadata": {},
   "source": [
    "***Output Activation:***\n",
    "\n",
    "Softmax is a activation function which maps the layer output to prob. range 0-1. The difference to sigmoid is that softmax has property that output vector sums up to 1. So for instance if we are doing multi-categorical classification where each instance only belongs to 1 class we use softmax. On the other hand if each instance can belong to several classes then we go with the sigmoid.\n",
    "\n",
    "***Softmax:***\n",
    "$$\\sigma(\\textbf{z})_i = \\frac{e^{z_i}}{\\sum_j^k e^{z_j}}$$\n",
    "***Sigmoid:***\n",
    "$$\\sigma(z_i) = \\frac{e^{z_i}}{1 + e^{z_i}}$$\n",
    "\n",
    "***Loss Function:***\n",
    "\n",
    "When we have multi-categorical output we use categorical cross entropy over binary cross entropy for obvious reasons(google it). We derive this loss function from the negative log likelihood of categorical distribution.\n",
    "\n",
    "***PMF of categorical distr.:***\n",
    "$$P(X = y_k) = \\prod^K_i \\mu_i^{\\textbf{1}_{i=y_k}}$$\n",
    "\n",
    "***Negative log likelihood.:***\n",
    "$$-L = \\sum^N_i \\sum_k^K \\textbf{1}_{y_i=k}log(\\mu_k)$$\n",
    "\n",
    "Note that when we in the case of each instance only belongs to 1 class, we have bunch of multiplication with 0 which are unnecessary computations thus instead we can locate the position of positive class from each instance and take the sum of those instances when we are calculation likelihood, this is called sparse categorical cross entropy. Also note that we cannot use this in the case of each instance may belong to several classes. We are forced to use binary cross entropy element wise for each label then sum the individual losses. "
   ]
  },
  {
   "cell_type": "code",
   "execution_count": 6,
   "metadata": {
    "ExecuteTime": {
     "end_time": "2020-04-13T08:06:13.222970Z",
     "start_time": "2020-04-13T08:06:11.104652Z"
    }
   },
   "outputs": [
    {
     "data": {
      "text/plain": [
       "<matplotlib.legend.Legend at 0x1036263d0>"
      ]
     },
     "execution_count": 6,
     "metadata": {},
     "output_type": "execute_result"
    },
    {
     "data": {
      "image/png": "[encoded data removed]",
      "text/plain": [
       "<Figure size 4320x1440 with 2 Axes>"
      ]
     },
     "metadata": {
      "needs_background": "light"
     },
     "output_type": "display_data"
    }
   ],
   "source": [
    "# Plot loss per iteration - Usual stuff\n",
    "import matplotlib.pyplot as plt\n",
    "plt.figure(figsize=(60,20))\n",
    "plt.subplot(1,2,1)\n",
    "\n",
    "plt.plot(history.history['loss'], label='loss')\n",
    "plt.plot(history.history['val_loss'], label='val_loss')\n",
    "plt.legend()\n",
    "\n",
    "# Plot accuracy per iteration\n",
    "plt.subplot(1,2,2)\n",
    "plt.plot(history.history['accuracy'], label='acc')\n",
    "plt.plot(history.history['val_accuracy'], label='val_acc')\n",
    "plt.legend()"
   ]
  },
  {
   "cell_type": "code",
   "execution_count": 8,
   "metadata": {
    "ExecuteTime": {
     "end_time": "2020-04-13T08:06:38.536256Z",
     "start_time": "2020-04-13T08:06:38.227563Z"
    }
   },
   "outputs": [
    {
     "name": "stdout",
     "output_type": "stream",
     "text": [
      "10000/10000 [==============================] - 0s 28us/sample - loss: 0.0817 - accuracy: 0.9817\n"
     ]
    },
    {
     "data": {
      "text/plain": [
       "[0.08172981641612533, 0.9817]"
      ]
     },
     "execution_count": 8,
     "metadata": {},
     "output_type": "execute_result"
    }
   ],
   "source": [
    "# Evaluate the model\n",
    "model.evaluate(x_test, y_test) # evaulate without predicting"
   ]
  },
  {
   "cell_type": "code",
   "execution_count": 9,
   "metadata": {
    "ExecuteTime": {
     "end_time": "2020-04-13T08:06:38.884578Z",
     "start_time": "2020-04-13T08:06:38.538184Z"
    }
   },
   "outputs": [],
   "source": [
    "from sklearn.metrics import confusion_matrix\n",
    "import itertools\n",
    "def plot_conf_matrix(cm, classes, \n",
    "                     normalize=False, \n",
    "                     title='Confusion matrix', \n",
    "                     cmap=plt.cm.Blues):\n",
    "    if normalize==True:\n",
    "        cm = cm.astype('float') / cm.sum(axis=1)[:, np.newaxis]\n",
    "        print(\"Normalized confusion matrix\")\n",
    "    else:\n",
    "        print('Confusion matrix, without normalization')\n",
    "    print(cm)\n",
    "    plt.figure(figsize=(20,12))\n",
    "    plt.imshow(cm, interpolation='nearest', cmap=cmap)\n",
    "    plt.title(title)\n",
    "    plt.colorbar()\n",
    "    tick_marks = np.arange(len(classes))\n",
    "    plt.xticks(tick_marks, classes, rotation=45)\n",
    "    plt.yticks(tick_marks, classes)\n",
    "    \n",
    "    fmt = '.2f' if normalize else 'd'\n",
    "    thresh = cm.max() / 2.\n",
    "    for i, j in itertools.product(range(cm.shape[0]), range(cm.shape[1])):\n",
    "        plt.text(j, i, format(cm[i, j], fmt),\n",
    "                 horizontalalignment=\"center\",\n",
    "                 color=\"white\" if cm[i, j] > thresh else \"black\")\n",
    "\n",
    "    plt.tight_layout()\n",
    "    plt.ylabel('True label')\n",
    "    plt.xlabel('Predicted label')\n",
    "    plt.show()\n",
    "    "
   ]
  },
  {
   "cell_type": "code",
   "execution_count": 11,
   "metadata": {
    "ExecuteTime": {
     "end_time": "2020-04-13T08:07:06.278943Z",
     "start_time": "2020-04-13T08:07:04.900634Z"
    }
   },
   "outputs": [
    {
     "name": "stdout",
     "output_type": "stream",
     "text": [
      "Confusion matrix, without normalization\n",
      "[[ 970    0    1    1    0    0    4    1    3    0]\n",
      " [   0 1127    3    1    0    1    1    1    1    0]\n",
      " [   0    1 1020    2    0    0    2    4    3    0]\n",
      " [   0    0    1  992    0    9    0    5    3    0]\n",
      " [   0    0    7    0  963    0    3    2    2    5]\n",
      " [   2    1    0    4    0  877    3    0    4    1]\n",
      " [   5    3    0    1    4    4  937    0    4    0]\n",
      " [   2    2    9    5    0    1    0 1004    2    3]\n",
      " [   2    0    3    5    4    4    0    2  951    3]\n",
      " [   2    2    0    8    4    1    1    9    6  976]]\n"
     ]
    },
    {
     "data": {
      "image/png": "[encoded data removed]",
      "text/plain": [
       "<Figure size 1440x864 with 2 Axes>"
      ]
     },
     "metadata": {
      "needs_background": "light"
     },
     "output_type": "display_data"
    }
   ],
   "source": [
    "y_pred = model.predict(x_test).argmax(axis=1) # outputs probs, converting to classes\n",
    "cm = confusion_matrix(y_test, y_pred)\n",
    "plot_conf_matrix(cm, list(range(10)))"
   ]
  },
  {
   "cell_type": "markdown",
   "metadata": {},
   "source": [
    "***Visualizing a wrongly classified digit***"
   ]
  },
  {
   "cell_type": "code",
   "execution_count": 13,
   "metadata": {
    "ExecuteTime": {
     "end_time": "2020-04-13T08:07:22.074838Z",
     "start_time": "2020-04-13T08:07:21.924814Z"
    }
   },
   "outputs": [
    {
     "data": {
      "image/png": "[encoded data removed]",
      "text/plain": [
       "<Figure size 432x288 with 1 Axes>"
      ]
     },
     "metadata": {
      "needs_background": "light"
     },
     "output_type": "display_data"
    }
   ],
   "source": [
    "# Show some misclassified examples\n",
    "misclassified_idx = np.where(y_pred != y_test)[0] # to return as array\n",
    "i = np.random.choice(misclassified_idx)\n",
    "plt.imshow(x_test[i], cmap=\"gray\")\n",
    "plt.title(\"True label: %s Predicted: %s\" % (y_test[i], y_pred[i]));"
   ]
  },
  {
   "cell_type": "markdown",
   "metadata": {},
   "source": [
    "# Convolutional Nets"
   ]
  },
  {
   "cell_type": "markdown",
   "metadata": {},
   "source": [
    " - Convolution is a type of operation that is conducted on input image and the filter(kernel). Operation is represented by the symbol star(*) which not correspond to multipclation. Conv. in its most basic form is given by:\n",
    " $$Input \\ Image * \\ Kernel = Output \\ Image$$\n",
    " \n",
    " - There 2 specific example of Conv. operation\n",
    " \n",
    "     - Blurring:\n",
    "     \n",
    "     Which blurrs the input image with given input image and kernel\n",
    "     \n",
    "     - Edge Detection:\n",
    "     \n",
    "     As input we have original version of the image and as output we get a image with white lines over the edges of the image and black in the remaining parts, meaning output is the image with highlighted edges.\n",
    "     \n",
    " - Considering these we can just think Conv. operation as a feature transformation on the input image\n",
    " \n",
    " - What makes the difference between these 2 methods is the kernel. If we use a gaussian filter on image we get blurr image. On the other hand if we use edge detection filter we get output with highlighted edges."
   ]
  },
  {
   "cell_type": "markdown",
   "metadata": {},
   "source": [
    "## Conv. Operation"
   ]
  },
  {
   "cell_type": "markdown",
   "metadata": {},
   "source": [
    " - Conv. operation boils down to dumb matrix multip. and summing elements of the output matrix of dumb matrix multip. Consider the following example with a single gray-scale image represented as 4 by 4 matrix and a filter represented as 2 by 2 matrix.\n",
    " \n",
    " $$\\begin{bmatrix}\n",
    "0 & 10 & 10 & 0\\\\\n",
    "20 & 30 & 30 & 20\\\\\n",
    "10 & 20 & 20 & 10\\\\\n",
    "0 & 5 & 5 & 0\n",
    "\\end{bmatrix} * \n",
    "\\begin{bmatrix}\n",
    "1 & 0\\\\\n",
    "0 & 2\n",
    "\\end{bmatrix} = \\begin{bmatrix}\n",
    "60 & 70 & 50\\\\\n",
    "60 & 70 & 50\\\\\n",
    "20 & 30 & 20\\\\\n",
    "\\end{bmatrix}$$\n",
    "\n",
    "\n",
    " - Filter slides through rows and columns of image at each pass we do element wise multip. and sum the output of element wise multip. Note that output location corresponds to where we placed the filter along the original image.\n",
    " \n",
    " - Note that if we have a input image given as $(N\\ x\\ N)$ matrix and a filter given $(K\\ x\\ K)$ matrix, Conv. operation outputs a $(N-K+1\\ x\\ N-K+1)$ matrix.\n",
    " \n",
    " - More generally, if the input image has $N$ rows and filter has $K$ rows, output will have $N-K+1$ rows, same argument follows for the columns. In the example we used a square matrix for both image and kernel, this is not necessarly case for images but as convention filters always has square representation. We can convert images to square for modelling purposes.\n",
    " \n",
    " - In general Conv. operation is given by:\n",
    " \n",
    " $$Z_{i,j} = \\sum_{i^{\\prime}=0}^{K-1} \\sum_{j^{\\prime}=0}^{K-1} A_{i + i^{\\prime}, j+j^{\\prime}}\\cdot F_{i^{\\prime}, j^{\\prime}}$$\n",
    " \n",
    " - This is deep learning version of Conv. operation, original one slightly different, it does not matter though since we use gradient descent to learn kernel values. Also note that this is Conv2D not 1-3D\n",
    " \n",
    " - Note that output is smaller than input image, if we want output to be same size as input, we can use zero padding. Also filter causes information loss, meaning when we dont use padding we do not capture all non-zero outputs. These properties of Conv. operation leads to 3 different type of Conv. operation which differs in padding process.\n",
    " \n",
    "     - Valid: \n",
    "     No zero-padding, results in lenght of $N-K+1$\n",
    "     \n",
    "     - Same: \n",
    "     Zero padding in a way which output has same lenght of input, results in $N$ lenght\n",
    "     \n",
    "     - Full: \n",
    "     Zero padding in a way that we capture all of the non-zero outputs, results in lenght $N+K-1$"
   ]
  },
  {
   "cell_type": "markdown",
   "metadata": {},
   "source": [
    "## Conv. intuition"
   ]
  },
  {
   "cell_type": "markdown",
   "metadata": {},
   "source": [
    " - Consider dot product between 2 column vectors:\n",
    " $$a\\cdot b = a^{T}b = \\sum^N_i a_i b_i$$\n",
    " \n",
    " - Now this is quite similar to Conv operation.\n",
    " \n",
    " - Why dot product\n",
    " \n",
    "     - Another represent. of dot product is given by:\n",
    "     $$a \\cdot b = |a||b|\\underbrace{cos\\theta_{ab}}_{\\text{Cos of Angle between 2 vectors}}$$\n",
    "     This is known as cosine similarity, similarity between 2 vectors. If the angle between 2 vectors is 0 meaning they parellel then Cos is 1, which is the max value Cos can take. On the other hand if the angle is 90, meaning they are orthogonal Cos is 0 which corresponds to no similarity. This is where pearson correlation is coming from, thus we can think dot product as a correlation measure.\n",
    "     \n",
    "  - Thus we can think Conv. operation as similarity measure and the filter as pattern finder. We optimize filter matrix with gradient descent, filter slides along to original image and tries to find a pattern that is related to output of the model. Thus filter is updated in such a way, outputs high values in absolute terms for the parts of the image that is explanatory of the output of the model and outputs low values in absolute terms for the parts of the image that is not. In the end filter is sliding pattern finder.\n",
    "     "
   ]
  },
  {
   "cell_type": "markdown",
   "metadata": {},
   "source": [
    " - Alternativly we can represent Conv. operation as a matrix multip.\n",
    " \n",
    " - Consider a Conv1D example, where:\n",
    " $$[a_1, a_2, a_3, a_4] = Input \\quad [w_1, w_2] = Filter$$\n",
    " - Thus Conv1D is given by:\n",
    " $$Input * Filter = [w_1a_1 + w_2a_2, w_1a_2 + w_2a_3, w_1a_3 + w_2a_4]$$\n",
    " \n",
    " - As a matrix multip., we have:\n",
    " $$\\begin{bmatrix}\n",
    "w_1a_1 + w_2a_2\\\\\n",
    "w_1a_2 + w_2a_3\\\\\n",
    "w_1a_3 + w_2a_4\\\\\n",
    "\\end{bmatrix} = \n",
    "\\begin{bmatrix}\n",
    "w_1 & w_2 & 0 & 0\\\\\n",
    "0 & w_1 & w_2 & 0\\\\\n",
    "0 & 0 & w_1 & w_2\\\\\n",
    "\\end{bmatrix}\n",
    "\\begin{bmatrix}\n",
    "a_1\\\\\n",
    "a_2\\\\\n",
    "a_3\\\\\n",
    "a_4\n",
    "\\end{bmatrix}$$\n",
    "\n",
    " - Notice this correspond to same operation as Dense layer do but with a twist which is in Conv layer weights are shared rather than each element represent a single weight."
   ]
  },
  {
   "cell_type": "markdown",
   "metadata": {},
   "source": [
    "## Convolution function"
   ]
  },
  {
   "cell_type": "code",
   "execution_count": 14,
   "metadata": {
    "ExecuteTime": {
     "end_time": "2020-04-13T08:07:22.082088Z",
     "start_time": "2020-04-13T08:07:22.076897Z"
    }
   },
   "outputs": [],
   "source": [
    "def conv(input_image, kernel): # This is valid mode\n",
    "    output_rows = input_image.shape[0] - kernel.shape[0] + 1\n",
    "    output_cols = input_image.shape[1] - kernel.shape[1] + 1\n",
    "    output = np.zeros((output_rows, output_cols))\n",
    "    for i in range(output_rows):\n",
    "        for j in range(output_cols):\n",
    "            for ii in range(kernel.shape[0]):\n",
    "                for jj in range(kernel.shape[1]):\n",
    "                    output[i, j] += input_image[i+ii, j+jj]*kernel[ii,jj]\n",
    "    return output\n",
    "        "
   ]
  },
  {
   "cell_type": "code",
   "execution_count": 15,
   "metadata": {
    "ExecuteTime": {
     "end_time": "2020-04-13T08:07:22.087855Z",
     "start_time": "2020-04-13T08:07:22.083763Z"
    }
   },
   "outputs": [
    {
     "name": "stdout",
     "output_type": "stream",
     "text": [
      " (4, 4) \n",
      " (2, 2)\n"
     ]
    }
   ],
   "source": [
    "image_inp = np.array([[0,10,10,0], [20,30,30,20], [10,20,20,10], [0,5,5,0]])\n",
    "kernel = np.array([[1,0], [0,2]])\n",
    "print(\"\",image_inp.shape, \"\\n\", \n",
    "     kernel.shape)"
   ]
  },
  {
   "cell_type": "code",
   "execution_count": 16,
   "metadata": {
    "ExecuteTime": {
     "end_time": "2020-04-13T08:07:22.093226Z",
     "start_time": "2020-04-13T08:07:22.089540Z"
    }
   },
   "outputs": [
    {
     "data": {
      "text/plain": [
       "array([[60., 70., 50.],\n",
       "       [60., 70., 50.],\n",
       "       [20., 30., 20.]])"
      ]
     },
     "execution_count": 16,
     "metadata": {},
     "output_type": "execute_result"
    }
   ],
   "source": [
    "conv(image_inp, kernel) # same output as above example"
   ]
  },
  {
   "cell_type": "markdown",
   "metadata": {},
   "source": [
    "## Conv on colored images"
   ]
  },
  {
   "cell_type": "markdown",
   "metadata": {},
   "source": [
    " - When we have color dimension Conv operator becomes:\n",
    " $$Z_{i,j} = \\sum_{c=1}^3 \\sum_{i^{\\prime}=1}^{K} \\sum_{j^{\\prime}=1}^{K} A_{i + i^{\\prime}, j+j^{\\prime},c}\\cdot F_{i^{\\prime}, j^{\\prime},c}$$\n",
    " \n",
    " - Note that even input is 3D, output of the Conv operator is still 2D, for instance if input is $H\\ x\\ W\\ x\\ 3$ and the kernel is $K\\ x\\ K\\ x\\ 3$ output will be $(H-K+1)x(W-K+1)$\n",
    " \n",
    " - Neural Nets in its core works because of its uniformity, next layer takes the prev. layer output as input thus prev. layer input should be same dimension as its output.\n",
    " \n",
    " - To solve this we use multiple filters. Consider an image with shape $H\\ x\\ W\\ x\\ 3$ if we use 3 filters with all shape $K\\ x\\ K\\ x\\ 3$ each will conv. operation will have a output of shape $(H-K+1)x(W-K+1)$ then we stack these 2D matrices in the 3rd dimension and we end up with a output shape $(H-K+1)x(W-K+1)x3$. Also note that 3rd dimension of output depends on the how many filters we use\n",
    " \n",
    " - But we dont wanna chain several conv operations then stack them together due to the time it takes, instead we can define kernel as 4D and vectorize the operation. Consider the following:\n",
    " $$\\underbrace{Input = A}_{H\\ x\\ W\\ x\\ C_1} \\quad \\underbrace{Kernel = w}_{C_1\\ x\\ K\\ x\\ K\\ x\\ C_2} \\quad \\underbrace{Output = B}_{H\\ x\\ W\\ x\\ C_2}$$\n",
    " \n",
    " - Where $C_1$ corresponds to number of color channels and $C_2$ corresponds to number of filters, following this Conv. operation is given by:\n",
    " $$B_{i,j,c} = \\sum^K_{i^{\\prime}=1} \\sum^K_{j^{\\prime} = 1} \\sum^{C_1}_{c^{\\prime}=1} A_{i + i^{\\prime}, j+j^{\\prime}, c^{\\prime}}\\cdot w_{c^{\\prime}, i^{\\prime}, j^{\\prime}, c}$$\n",
    " \n",
    " - Note that $C_2$ does not represent color anymore, they are just arbitarary features obtained from the original image, these are called feature maps, where each filter output correspond to single map.\n",
    " \n",
    " - In the end conv layer represented as:\n",
    " $$\\sigma(w * A + b)$$\n",
    " \n",
    " - Where $b$ is the bias term with the size $C_2$ vector, normally adding a vector of $C_2$ to 3D tensor is not really valid but anywayz we are happy as long as it works. Sigma refers to some arbitarary activation function.\n",
    " \n",
    " - For comparison reasons, dense layer is given by:\n",
    " $$\\sigma(w^T A + b)$$\n",
    " \n",
    " \n",
    " "
   ]
  },
  {
   "cell_type": "markdown",
   "metadata": {},
   "source": [
    "## CNN Architecture"
   ]
  },
  {
   "cell_type": "markdown",
   "metadata": {},
   "source": [
    " - Typical CNN is given by:\n",
    " $$\\underbrace{Conv \\to Pool \\to Conv \\to Pool}_{First \\ Stage} \\to \\underbrace{Dense \\to Dense}_{Second \\ Stage}$$\n",
    " \n",
    " - Recall we defined Conv as a feature transformer operator, we can think above arch as, first stage is feature extraction/transformation/engineering/whatever and the second stage is mini FFNN - nonlinear classifier/regression.\n",
    " \n",
    " - Pooling layer is a downsampling layer for instance if we $100\\ x\\ 100$ input and a pool layer of pooling size 2, pooling layer reduces the size of input to $50\\ x\\ 50$.\n",
    " \n",
    " - Recall Conv. is similar to cosine similarity, which outputs high values in the locations filter found some pattern, thus max pooling down samples data by only retaining parts that filter found a important pattern.\n",
    " \n",
    " - Pooling layers have some flexibilty, it can look at the boxes with different rows or columns, also sliding window(strides) can be changed allowing boxes to overlap with each. Overlapping boxes or different col or row number for box sizes is not really common.\n",
    " \n",
    " - At each layer Conv. layer focuses on particular features. For instance in first layer it focusses on edges and in the second layer, it focusses on nose, eye whatever. This is because of the pooling layers. At each layer input shrinks and filter can focus on larger portion of the input assuming filter size stays same. Thus when the input is large filter focusses on smaller features as the input shrinks it starts to focus on larger features such as nose,eye. \n",
    " \n",
    " - We can think pooling layer as zooming into image as we zoom in more filter starts to realize nose,eye,mouth. But when the input is large since filters goes through small portion of input it focusses on smaller features.\n",
    " \n",
    " - Also note that when we shrink the image we lose information but at the same time if we increase the filters at each layer, we are increasing the number of different features. This can be considered as, we are losing the information where in the image feature found but we are increasing the number of different features found. Generally it is not important where the feature found as long as it is found.\n",
    " \n",
    " - Some conventions to follow with CNNS:\n",
    "     \n",
    "     - Small filter size(K) relative to image\n",
    "     \n",
    "     - Conv to Pooling structure(alternativly we can use stride > 1 in conv layers.)\n",
    "     \n",
    "     - Increase the feature maps in each layer(number of filters)\n",
    "     \n",
    "  - Note that we need to flatten the image before feeding it to dense layer.\n",
    "  \n",
    "  - Alternative to Flatten, we can use GlobalMaxPooling which takes max over height and width dimension over each feature map. For instance if single image has shape $(H\\ x\\ W\\ x\\ c)$, output of the globalmaxpooling has shape of $(1\\ x\\ 1\\ x\\ c)$ regardless of $H$ and $W$."
   ]
  },
  {
   "cell_type": "markdown",
   "metadata": {},
   "source": [
    "### Summary of usual Conv arch."
   ]
  },
  {
   "cell_type": "markdown",
   "metadata": {},
   "source": [
    "***Step 1:***\n",
    "\n",
    "Choose the Conv Arch you want to follow\n",
    "\n",
    "2 choices:\n",
    "\n",
    " - $Conv \\to Pool \\to Conv \\to ..$\n",
    " \n",
    " - $Srided\\ Conv \\to Strided \\ Conv \\to ..$\n",
    " \n",
    "***Step 2:***\n",
    "\n",
    "Choose the formatting of Convs output for dense layers\n",
    "\n",
    "2 Choices:\n",
    "\n",
    " - Flatten()\n",
    " \n",
    " - GlobalMaxPooling2D()\n",
    " \n",
    "***Step 3:***\n",
    "\n",
    "Non-linear predictor\n",
    "\n",
    " - $Dense \\to Dense \\to ..$\n"
   ]
  },
  {
   "cell_type": "markdown",
   "metadata": {},
   "source": [
    "## Conv Examples"
   ]
  },
  {
   "cell_type": "markdown",
   "metadata": {},
   "source": [
    "### Gray scale images"
   ]
  },
  {
   "cell_type": "code",
   "execution_count": 17,
   "metadata": {
    "ExecuteTime": {
     "end_time": "2020-04-13T08:07:22.099965Z",
     "start_time": "2020-04-13T08:07:22.094698Z"
    }
   },
   "outputs": [],
   "source": [
    "from tensorflow.keras.layers import Input, Conv2D, Dense, Flatten, Dropout, MaxPooling2D, GlobalMaxPooling2D\n",
    "from tensorflow.keras.models import Model # Functional API of tf 2.0"
   ]
  },
  {
   "cell_type": "code",
   "execution_count": 18,
   "metadata": {
    "ExecuteTime": {
     "end_time": "2020-04-13T08:07:22.850573Z",
     "start_time": "2020-04-13T08:07:22.101880Z"
    }
   },
   "outputs": [
    {
     "name": "stdout",
     "output_type": "stream",
     "text": [
      "x_train.shape: (60000, 28, 28)\n"
     ]
    }
   ],
   "source": [
    "# Load in the data\n",
    "fashion_mnist = tf.keras.datasets.fashion_mnist # Harder task compared to MNIST\n",
    "\n",
    "(x_train, y_train), (x_test, y_test) = fashion_mnist.load_data()\n",
    "x_train, x_test = x_train / 255.0, x_test / 255.0 # Scale the data between 0-1\n",
    "print(\"x_train.shape:\", x_train.shape)"
   ]
  },
  {
   "cell_type": "code",
   "execution_count": 19,
   "metadata": {
    "ExecuteTime": {
     "end_time": "2020-04-13T08:07:22.855400Z",
     "start_time": "2020-04-13T08:07:22.851859Z"
    }
   },
   "outputs": [
    {
     "name": "stdout",
     "output_type": "stream",
     "text": [
      "(60000, 28, 28, 1)\n"
     ]
    }
   ],
   "source": [
    "# the data is only 2D, CNN2D expects 3D data even its called 2D\n",
    "x_train = np.expand_dims(x_train, -1)\n",
    "x_test = np.expand_dims(x_test, -1)\n",
    "print(x_train.shape)"
   ]
  },
  {
   "cell_type": "code",
   "execution_count": 20,
   "metadata": {
    "ExecuteTime": {
     "end_time": "2020-04-13T08:07:22.868441Z",
     "start_time": "2020-04-13T08:07:22.858374Z"
    }
   },
   "outputs": [
    {
     "name": "stdout",
     "output_type": "stream",
     "text": [
      "number of classes: 10\n"
     ]
    }
   ],
   "source": [
    "# number of classes\n",
    "K = len(set(y_train))\n",
    "print(\"number of classes:\", K)"
   ]
  },
  {
   "cell_type": "markdown",
   "metadata": {},
   "source": [
    "***Conv2D Arguments***\n",
    "\n",
    " - First Argument - # of Filters(how many feature maps)\n",
    " \n",
    " - Second Argument - Dimensions of the filter\n",
    " \n",
    " - Stride - Step size of the sliding window of filter, here we use stride of 2 thus we can avoid pooling layer\n",
    " \n",
    " - Padding - Discussed above"
   ]
  },
  {
   "cell_type": "code",
   "execution_count": 21,
   "metadata": {
    "ExecuteTime": {
     "end_time": "2020-04-13T08:07:22.937482Z",
     "start_time": "2020-04-13T08:07:22.870249Z"
    }
   },
   "outputs": [
    {
     "name": "stdout",
     "output_type": "stream",
     "text": [
      "Model: \"model\"\n",
      "_________________________________________________________________\n",
      "Layer (type)                 Output Shape              Param #   \n",
      "=================================================================\n",
      "input_1 (InputLayer)         [(None, 28, 28, 1)]       0         \n",
      "_________________________________________________________________\n",
      "conv2d (Conv2D)              (None, 13, 13, 32)        320       \n",
      "_________________________________________________________________\n",
      "conv2d_1 (Conv2D)            (None, 6, 6, 64)          18496     \n",
      "_________________________________________________________________\n",
      "conv2d_2 (Conv2D)            (None, 2, 2, 128)         73856     \n",
      "_________________________________________________________________\n",
      "flatten_1 (Flatten)          (None, 512)               0         \n",
      "_________________________________________________________________\n",
      "dropout_1 (Dropout)          (None, 512)               0         \n",
      "_________________________________________________________________\n",
      "dense_2 (Dense)              (None, 512)               262656    \n",
      "_________________________________________________________________\n",
      "dropout_2 (Dropout)          (None, 512)               0         \n",
      "_________________________________________________________________\n",
      "dense_3 (Dense)              (None, 10)                5130      \n",
      "=================================================================\n",
      "Total params: 360,458\n",
      "Trainable params: 360,458\n",
      "Non-trainable params: 0\n",
      "_________________________________________________________________\n"
     ]
    }
   ],
   "source": [
    "# Build the model using the functional API\n",
    "i = Input(shape=x_train[0].shape)\n",
    "x = Conv2D(32, (3, 3), strides=2, activation='relu')(i)\n",
    "x = Conv2D(64, (3, 3), strides=2, activation='relu')(x)\n",
    "x = Conv2D(128, (3, 3), strides=2, activation='relu')(x)\n",
    "x = Flatten()(x)\n",
    "x = Dropout(0.2)(x)\n",
    "x = Dense(512, activation='relu')(x)\n",
    "x = Dropout(0.2)(x)\n",
    "x = Dense(K, activation='softmax')(x)\n",
    "\n",
    "model = Model(i, x)\n",
    "model.summary()"
   ]
  },
  {
   "cell_type": "code",
   "execution_count": 22,
   "metadata": {
    "ExecuteTime": {
     "end_time": "2020-04-13T08:09:16.089509Z",
     "start_time": "2020-04-13T08:07:22.938981Z"
    }
   },
   "outputs": [
    {
     "name": "stdout",
     "output_type": "stream",
     "text": [
      "Train on 60000 samples, validate on 10000 samples\n",
      "Epoch 1/10\n",
      "60000/60000 [==============================] - 11s 188us/sample - loss: 0.5249 - accuracy: 0.8038 - val_loss: 0.4162 - val_accuracy: 0.8471\n",
      "Epoch 2/10\n",
      "60000/60000 [==============================] - 10s 170us/sample - loss: 0.3614 - accuracy: 0.8634 - val_loss: 0.3467 - val_accuracy: 0.8740\n",
      "Epoch 3/10\n",
      "60000/60000 [==============================] - 11s 177us/sample - loss: 0.3136 - accuracy: 0.8806 - val_loss: 0.3117 - val_accuracy: 0.8862\n",
      "Epoch 4/10\n",
      "60000/60000 [==============================] - 10s 162us/sample - loss: 0.2789 - accuracy: 0.8952 - val_loss: 0.3160 - val_accuracy: 0.8821\n",
      "Epoch 5/10\n",
      "60000/60000 [==============================] - 11s 182us/sample - loss: 0.2543 - accuracy: 0.9046 - val_loss: 0.2912 - val_accuracy: 0.8967\n",
      "Epoch 6/10\n",
      "60000/60000 [==============================] - 11s 176us/sample - loss: 0.2327 - accuracy: 0.9117 - val_loss: 0.2881 - val_accuracy: 0.8964\n",
      "Epoch 7/10\n",
      "60000/60000 [==============================] - 11s 187us/sample - loss: 0.2149 - accuracy: 0.9171 - val_loss: 0.3272 - val_accuracy: 0.8891\n",
      "Epoch 8/10\n",
      "60000/60000 [==============================] - 12s 207us/sample - loss: 0.2029 - accuracy: 0.9226 - val_loss: 0.3314 - val_accuracy: 0.8847\n",
      "Epoch 9/10\n",
      "60000/60000 [==============================] - 13s 220us/sample - loss: 0.1862 - accuracy: 0.9294 - val_loss: 0.2949 - val_accuracy: 0.9014\n",
      "Epoch 10/10\n",
      "60000/60000 [==============================] - 13s 214us/sample - loss: 0.1752 - accuracy: 0.9320 - val_loss: 0.3070 - val_accuracy: 0.9016\n"
     ]
    }
   ],
   "source": [
    "# Compile and fit\n",
    "model.compile(optimizer='adam',\n",
    "              loss='sparse_categorical_crossentropy',\n",
    "              metrics=['accuracy'])\n",
    "r = model.fit(x_train, y_train, validation_data=(x_test, y_test), epochs=10)"
   ]
  },
  {
   "cell_type": "code",
   "execution_count": 23,
   "metadata": {
    "ExecuteTime": {
     "end_time": "2020-04-13T08:09:16.918606Z",
     "start_time": "2020-04-13T08:09:16.091627Z"
    }
   },
   "outputs": [
    {
     "name": "stdout",
     "output_type": "stream",
     "text": [
      "10000/10000 [==============================] - 1s 79us/sample - loss: 0.3070 - accuracy: 0.9016\n"
     ]
    },
    {
     "data": {
      "text/plain": [
       "[0.3069707871437073, 0.9016]"
      ]
     },
     "execution_count": 23,
     "metadata": {},
     "output_type": "execute_result"
    }
   ],
   "source": [
    "model.evaluate(x_test, y_test)"
   ]
  },
  {
   "cell_type": "code",
   "execution_count": 24,
   "metadata": {
    "ExecuteTime": {
     "end_time": "2020-04-13T08:09:17.024514Z",
     "start_time": "2020-04-13T08:09:16.920721Z"
    }
   },
   "outputs": [
    {
     "name": "stdout",
     "output_type": "stream",
     "text": [
      "Model: \"model_1\"\n",
      "_________________________________________________________________\n",
      "Layer (type)                 Output Shape              Param #   \n",
      "=================================================================\n",
      "input_2 (InputLayer)         [(None, 28, 28, 1)]       0         \n",
      "_________________________________________________________________\n",
      "conv2d_3 (Conv2D)            (None, 26, 26, 32)        320       \n",
      "_________________________________________________________________\n",
      "max_pooling2d (MaxPooling2D) (None, 13, 13, 32)        0         \n",
      "_________________________________________________________________\n",
      "conv2d_4 (Conv2D)            (None, 11, 11, 64)        18496     \n",
      "_________________________________________________________________\n",
      "max_pooling2d_1 (MaxPooling2 (None, 5, 5, 64)          0         \n",
      "_________________________________________________________________\n",
      "conv2d_5 (Conv2D)            (None, 3, 3, 128)         73856     \n",
      "_________________________________________________________________\n",
      "global_max_pooling2d (Global (None, 128)               0         \n",
      "_________________________________________________________________\n",
      "dropout_3 (Dropout)          (None, 128)               0         \n",
      "_________________________________________________________________\n",
      "dense_4 (Dense)              (None, 512)               66048     \n",
      "_________________________________________________________________\n",
      "dropout_4 (Dropout)          (None, 512)               0         \n",
      "_________________________________________________________________\n",
      "dense_5 (Dense)              (None, 10)                5130      \n",
      "=================================================================\n",
      "Total params: 163,850\n",
      "Trainable params: 163,850\n",
      "Non-trainable params: 0\n",
      "_________________________________________________________________\n"
     ]
    }
   ],
   "source": [
    "# Alternativly with MaxPooling and GlobalMaxPooling \n",
    "# Note that it is much slower due to using pooling over strides\n",
    "i = Input(shape=x_train[0].shape)\n",
    "x = Conv2D(32, (3, 3), strides=1, activation='relu')(i)\n",
    "x = MaxPooling2D(2)(x)\n",
    "x = Conv2D(64, (3, 3), strides=1, activation='relu')(x)\n",
    "x = MaxPooling2D(2)(x)\n",
    "x = Conv2D(128, (3, 3), strides=1, activation='relu')(x)\n",
    "x = GlobalMaxPooling2D()(x)\n",
    "x = Dropout(0.2)(x)\n",
    "x = Dense(512, activation='relu')(x)\n",
    "x = Dropout(0.2)(x)\n",
    "x = Dense(K, activation='softmax')(x)\n",
    "\n",
    "model = Model(i, x)\n",
    "model.summary()"
   ]
  },
  {
   "cell_type": "code",
   "execution_count": 25,
   "metadata": {
    "ExecuteTime": {
     "end_time": "2020-04-13T08:14:10.543334Z",
     "start_time": "2020-04-13T08:09:17.032006Z"
    }
   },
   "outputs": [
    {
     "name": "stdout",
     "output_type": "stream",
     "text": [
      "Train on 60000 samples, validate on 10000 samples\n",
      "Epoch 1/10\n",
      "60000/60000 [==============================] - 37s 618us/sample - loss: 0.5721 - accuracy: 0.7868 - val_loss: 0.3908 - val_accuracy: 0.8549\n",
      "Epoch 2/10\n",
      "60000/60000 [==============================] - 35s 577us/sample - loss: 0.3621 - accuracy: 0.8662 - val_loss: 0.3490 - val_accuracy: 0.8694\n",
      "Epoch 3/10\n",
      "60000/60000 [==============================] - 32s 529us/sample - loss: 0.3115 - accuracy: 0.8835 - val_loss: 0.2957 - val_accuracy: 0.8908\n",
      "Epoch 4/10\n",
      "60000/60000 [==============================] - 30s 492us/sample - loss: 0.2807 - accuracy: 0.8956 - val_loss: 0.2874 - val_accuracy: 0.8931\n",
      "Epoch 5/10\n",
      "60000/60000 [==============================] - 34s 561us/sample - loss: 0.2578 - accuracy: 0.9043 - val_loss: 0.2752 - val_accuracy: 0.9006\n",
      "Epoch 6/10\n",
      "60000/60000 [==============================] - 26s 433us/sample - loss: 0.2394 - accuracy: 0.9105 - val_loss: 0.2617 - val_accuracy: 0.9033\n",
      "Epoch 7/10\n",
      "60000/60000 [==============================] - 25s 416us/sample - loss: 0.2285 - accuracy: 0.9144 - val_loss: 0.2766 - val_accuracy: 0.8967\n",
      "Epoch 8/10\n",
      "60000/60000 [==============================] - 25s 418us/sample - loss: 0.2127 - accuracy: 0.9202 - val_loss: 0.2515 - val_accuracy: 0.9079\n",
      "Epoch 9/10\n",
      "60000/60000 [==============================] - 25s 409us/sample - loss: 0.2025 - accuracy: 0.9229 - val_loss: 0.2794 - val_accuracy: 0.9004\n",
      "Epoch 10/10\n",
      "60000/60000 [==============================] - 26s 438us/sample - loss: 0.1939 - accuracy: 0.9263 - val_loss: 0.2529 - val_accuracy: 0.9128\n"
     ]
    }
   ],
   "source": [
    "# Compile and fit\n",
    "model.compile(optimizer='adam',\n",
    "              loss='sparse_categorical_crossentropy',\n",
    "              metrics=['accuracy'])\n",
    "r = model.fit(x_train, y_train, validation_data=(x_test, y_test), epochs=10)"
   ]
  },
  {
   "cell_type": "code",
   "execution_count": 26,
   "metadata": {
    "ExecuteTime": {
     "end_time": "2020-04-13T08:14:11.724923Z",
     "start_time": "2020-04-13T08:14:10.545489Z"
    }
   },
   "outputs": [
    {
     "name": "stdout",
     "output_type": "stream",
     "text": [
      "10000/10000 [==============================] - 1s 114us/sample - loss: 0.2529 - accuracy: 0.9128\n"
     ]
    },
    {
     "data": {
      "text/plain": [
       "[0.25291942566633224, 0.9128]"
      ]
     },
     "execution_count": 26,
     "metadata": {},
     "output_type": "execute_result"
    }
   ],
   "source": [
    "model.evaluate(x_test, y_test)"
   ]
  },
  {
   "cell_type": "code",
   "execution_count": 27,
   "metadata": {
    "ExecuteTime": {
     "end_time": "2020-04-13T08:14:12.374413Z",
     "start_time": "2020-04-13T08:14:11.727482Z"
    }
   },
   "outputs": [
    {
     "data": {
      "text/plain": [
       "<matplotlib.legend.Legend at 0x13d770750>"
      ]
     },
     "execution_count": 27,
     "metadata": {},
     "output_type": "execute_result"
    },
    {
     "data": {
      "image/png": "[encoded data removed]",
      "text/plain": [
       "<Figure size 1440x864 with 1 Axes>"
      ]
     },
     "metadata": {
      "needs_background": "light"
     },
     "output_type": "display_data"
    }
   ],
   "source": [
    "# Plot loss per iteration - Note that it can be trained more but will start overfitting soon\n",
    "plt.figure(figsize=(20,12))\n",
    "plt.plot(r.history['loss'], label='loss')\n",
    "plt.plot(r.history['val_loss'], label='val_loss')\n",
    "plt.title(\"Loss at eact epoch\")\n",
    "plt.legend()"
   ]
  },
  {
   "cell_type": "code",
   "execution_count": 28,
   "metadata": {
    "ExecuteTime": {
     "end_time": "2020-04-13T08:14:12.994679Z",
     "start_time": "2020-04-13T08:14:12.376738Z"
    }
   },
   "outputs": [
    {
     "data": {
      "text/plain": [
       "<matplotlib.legend.Legend at 0x13dc39f50>"
      ]
     },
     "execution_count": 28,
     "metadata": {},
     "output_type": "execute_result"
    },
    {
     "data": {
      "image/png": "[encoded data removed]",
      "text/plain": [
       "<Figure size 1440x864 with 1 Axes>"
      ]
     },
     "metadata": {
      "needs_background": "light"
     },
     "output_type": "display_data"
    }
   ],
   "source": [
    "# Plot accuracy per iteration - same picture\n",
    "plt.figure(figsize=(20,12))\n",
    "plt.plot(r.history['accuracy'], label='acc')\n",
    "plt.plot(r.history['val_accuracy'], label='val_acc')\n",
    "plt.title(\"Accuracy\")\n",
    "plt.legend()"
   ]
  },
  {
   "cell_type": "code",
   "execution_count": 29,
   "metadata": {
    "ExecuteTime": {
     "end_time": "2020-04-13T08:14:12.999997Z",
     "start_time": "2020-04-13T08:14:12.996567Z"
    }
   },
   "outputs": [],
   "source": [
    "# Label mapping\n",
    "labels = '''T-shirt/top\n",
    "Trouser\n",
    "Pullover\n",
    "Dress\n",
    "Coat\n",
    "Sandal\n",
    "Shirt\n",
    "Sneaker\n",
    "Bag\n",
    "Ankle boot'''.split(\"\\n\")\n",
    "\n"
   ]
  },
  {
   "cell_type": "code",
   "execution_count": 30,
   "metadata": {
    "ExecuteTime": {
     "end_time": "2020-04-13T08:14:15.213533Z",
     "start_time": "2020-04-13T08:14:13.002571Z"
    }
   },
   "outputs": [
    {
     "name": "stdout",
     "output_type": "stream",
     "text": [
      "Confusion matrix, without normalization\n",
      "[[864   1  13  18   1   1  92   0  10   0]\n",
      " [  1 981   0  13   3   0   1   0   1   0]\n",
      " [ 15   1 870  13  42   0  58   0   1   0]\n",
      " [ 18   3   4 942  12   0  18   0   3   0]\n",
      " [  2   1  29  39 891   0  35   0   3   0]\n",
      " [  0   0   0   0   0 985   0  10   0   5]\n",
      " [131   2  60  26  90   0 676   0  15   0]\n",
      " [  0   0   0   0   0  10   0 970   1  19]\n",
      " [  4   0   0   2   4   1   4   2 983   0]\n",
      " [  1   0   0   0   0   3   0  30   0 966]]\n"
     ]
    },
    {
     "data": {
      "image/png": "[encoded data removed]",
      "text/plain": [
       "<Figure size 1440x864 with 2 Axes>"
      ]
     },
     "metadata": {
      "needs_background": "light"
     },
     "output_type": "display_data"
    }
   ],
   "source": [
    "p_test = model.predict(x_test).argmax(axis=1)\n",
    "cm = confusion_matrix(y_test, p_test)\n",
    "plot_conf_matrix(cm, list(range(10)))"
   ]
  },
  {
   "cell_type": "code",
   "execution_count": 31,
   "metadata": {
    "ExecuteTime": {
     "end_time": "2020-04-13T08:14:15.481951Z",
     "start_time": "2020-04-13T08:14:15.215392Z"
    }
   },
   "outputs": [
    {
     "data": {
      "image/png": "[encoded data removed]",
      "text/plain": [
       "<Figure size 576x576 with 1 Axes>"
      ]
     },
     "metadata": {
      "needs_background": "light"
     },
     "output_type": "display_data"
    }
   ],
   "source": [
    "# Show some misclassified examples\n",
    "misclassified_idx = np.where(p_test != y_test)[0]\n",
    "i = np.random.choice(misclassified_idx)\n",
    "plt.figure(figsize=(8,8))\n",
    "plt.imshow(x_test[i].reshape(28,28), cmap='gray')\n",
    "plt.title(\"True label: %s Predicted: %s\" % (labels[y_test[i]], labels[p_test[i]]));"
   ]
  },
  {
   "cell_type": "markdown",
   "metadata": {},
   "source": [
    "### Colored Image"
   ]
  },
  {
   "cell_type": "markdown",
   "metadata": {},
   "source": [
    " - In the Arch of network nothing changes only difference is in the input layer instead of arbitarary 4th dimension as 1 we will have RGB color dimension which is 3\n",
    " \n",
    " - This makes a difference in the first Conv layer filter, that is instead of having a shape of $(1x3x3x32)$, we will have $(3x3x3x32)$"
   ]
  },
  {
   "cell_type": "code",
   "execution_count": 32,
   "metadata": {
    "ExecuteTime": {
     "end_time": "2020-04-13T08:14:17.782275Z",
     "start_time": "2020-04-13T08:14:15.483937Z"
    }
   },
   "outputs": [
    {
     "name": "stdout",
     "output_type": "stream",
     "text": [
      "x_train.shape: (50000, 32, 32, 3)\n",
      "y_train.shape (50000,)\n"
     ]
    }
   ],
   "source": [
    "# Load in the data\n",
    "cifar10 = tf.keras.datasets.cifar10\n",
    "\n",
    "(x_train, y_train), (x_test, y_test) = cifar10.load_data()\n",
    "x_train, x_test = x_train / 255.0, x_test / 255.0\n",
    "y_train, y_test = y_train.flatten(), y_test.flatten()\n",
    "print(\"x_train.shape:\", x_train.shape)\n",
    "print(\"y_train.shape\", y_train.shape)"
   ]
  },
  {
   "cell_type": "code",
   "execution_count": 33,
   "metadata": {
    "ExecuteTime": {
     "end_time": "2020-04-13T08:14:17.794635Z",
     "start_time": "2020-04-13T08:14:17.783933Z"
    }
   },
   "outputs": [
    {
     "name": "stdout",
     "output_type": "stream",
     "text": [
      "number of classes: 10\n"
     ]
    }
   ],
   "source": [
    "# number of classes\n",
    "K = len(set(y_train))\n",
    "print(\"number of classes:\", K)"
   ]
  },
  {
   "cell_type": "code",
   "execution_count": 34,
   "metadata": {
    "ExecuteTime": {
     "end_time": "2020-04-13T08:14:17.874242Z",
     "start_time": "2020-04-13T08:14:17.796311Z"
    }
   },
   "outputs": [
    {
     "name": "stdout",
     "output_type": "stream",
     "text": [
      "Model: \"model_2\"\n",
      "_________________________________________________________________\n",
      "Layer (type)                 Output Shape              Param #   \n",
      "=================================================================\n",
      "input_3 (InputLayer)         [(None, 32, 32, 3)]       0         \n",
      "_________________________________________________________________\n",
      "conv2d_6 (Conv2D)            (None, 15, 15, 32)        896       \n",
      "_________________________________________________________________\n",
      "conv2d_7 (Conv2D)            (None, 7, 7, 64)          18496     \n",
      "_________________________________________________________________\n",
      "conv2d_8 (Conv2D)            (None, 3, 3, 128)         73856     \n",
      "_________________________________________________________________\n",
      "flatten_2 (Flatten)          (None, 1152)              0         \n",
      "_________________________________________________________________\n",
      "dropout_5 (Dropout)          (None, 1152)              0         \n",
      "_________________________________________________________________\n",
      "dense_6 (Dense)              (None, 1024)              1180672   \n",
      "_________________________________________________________________\n",
      "dropout_6 (Dropout)          (None, 1024)              0         \n",
      "_________________________________________________________________\n",
      "dense_7 (Dense)              (None, 10)                10250     \n",
      "=================================================================\n",
      "Total params: 1,284,170\n",
      "Trainable params: 1,284,170\n",
      "Non-trainable params: 0\n",
      "_________________________________________________________________\n"
     ]
    }
   ],
   "source": [
    "# Same\n",
    "i = Input(shape=x_train[0].shape)\n",
    "x = Conv2D(32, (3, 3), strides=2, activation='relu')(i)\n",
    "x = Conv2D(64, (3, 3), strides=2, activation='relu')(x)\n",
    "x = Conv2D(128, (3, 3), strides=2, activation='relu')(x)\n",
    "x = Flatten()(x)\n",
    "x = Dropout(0.5)(x)\n",
    "x = Dense(1024, activation='relu')(x)\n",
    "x = Dropout(0.2)(x)\n",
    "x = Dense(K, activation='softmax')(x)\n",
    "\n",
    "model = Model(i, x)\n",
    "model.summary()"
   ]
  },
  {
   "cell_type": "code",
   "execution_count": 36,
   "metadata": {
    "ExecuteTime": {
     "end_time": "2020-04-13T08:16:12.977091Z",
     "start_time": "2020-04-13T08:15:45.531630Z"
    }
   },
   "outputs": [
    {
     "name": "stdout",
     "output_type": "stream",
     "text": [
      "Train on 50000 samples, validate on 10000 samples\n",
      "50000/50000 [==============================] - 25s 493us/sample - loss: 1.0293 - accuracy: 0.6319 - val_loss: 0.9898 - val_accuracy: 0.6557\n",
      "10000/10000 [==============================] - 1s 109us/sample - loss: 0.9898 - accuracy: 0.6557\n"
     ]
    },
    {
     "data": {
      "text/plain": [
       "[0.9897648496627808, 0.6557]"
      ]
     },
     "execution_count": 36,
     "metadata": {},
     "output_type": "execute_result"
    }
   ],
   "source": [
    "# Compile and fit\n",
    "model.compile(optimizer='adam',\n",
    "              loss='sparse_categorical_crossentropy',\n",
    "              metrics=['accuracy'])\n",
    "r = model.fit(x_train, y_train, validation_data=(x_test, y_test), epochs=1)\n",
    "model.evaluate(x_test, y_test)"
   ]
  },
  {
   "cell_type": "code",
   "execution_count": 37,
   "metadata": {
    "ExecuteTime": {
     "end_time": "2020-04-13T08:16:12.982689Z",
     "start_time": "2020-04-13T08:16:12.979665Z"
    }
   },
   "outputs": [],
   "source": [
    "# label mapping\n",
    "labels = '''airplane\n",
    "automobile\n",
    "bird\n",
    "fifi\n",
    "deer\n",
    "dog\n",
    "frog\n",
    "horse\n",
    "ship\n",
    "truck'''.split()"
   ]
  },
  {
   "cell_type": "code",
   "execution_count": 38,
   "metadata": {
    "ExecuteTime": {
     "end_time": "2020-04-13T08:16:13.355747Z",
     "start_time": "2020-04-13T08:16:12.985782Z"
    }
   },
   "outputs": [
    {
     "data": {
      "image/png": "[encoded data removed]",
      "text/plain": [
       "<Figure size 576x576 with 1 Axes>"
      ]
     },
     "metadata": {
      "needs_background": "light"
     },
     "output_type": "display_data"
    }
   ],
   "source": [
    "# Show some misclassified examples\n",
    "misclassified_idx = np.where(p_test != y_test)[0]\n",
    "i = np.random.choice(misclassified_idx)\n",
    "plt.figure(figsize=(8,8))\n",
    "plt.imshow(x_test[i], cmap='gray')\n",
    "plt.title(\"True label: %s Predicted: %s\" % (labels[y_test[i]], labels[p_test[i]]));"
   ]
  },
  {
   "cell_type": "markdown",
   "metadata": {},
   "source": [
    "## Data Augmentation"
   ]
  },
  {
   "cell_type": "markdown",
   "metadata": {},
   "source": [
    " - Refers to process of generating new images from existing ones by shifting rotating the existing images.\n",
    " \n",
    " - We can do this through keras generator/iterator"
   ]
  },
  {
   "cell_type": "markdown",
   "metadata": {},
   "source": [
    "## Batch Normalization"
   ]
  },
  {
   "cell_type": "markdown",
   "metadata": {},
   "source": [
    " - Just like we normalize data before feeding into Neural Net, batch norm. layer takes the output output of a layer and normalizes that output by batch mean and standard deviation. Aditionally it denormalize data with some parameters that is learned through gradient descent. Thus network also learns mean and standard deviation of the batches through gradient descent.\n",
    " \n",
    " - This also acts as regularization, since every batch will have different mean and standard deviation thus it add noise to the batches and prevents overfitting.\n",
    " \n",
    " - Batch normalization generally gives improvment on Conv networks not so much FFNN and RNNs.\n",
    " \n",
    " - Batch norm layer operation is given by:\n",
    " $$z = \\frac{x - \\mu_B}{\\sigma_B}$$\n",
    " $$y = \\gamma z + \\beta$$\n",
    " \n",
    " \n",
    " - Where gamma and beta learned through gradient descent."
   ]
  },
  {
   "cell_type": "markdown",
   "metadata": {},
   "source": [
    "## Small Scale VGG without Data Aug."
   ]
  },
  {
   "cell_type": "code",
   "execution_count": 39,
   "metadata": {
    "ExecuteTime": {
     "end_time": "2020-04-13T08:16:13.687523Z",
     "start_time": "2020-04-13T08:16:13.358078Z"
    }
   },
   "outputs": [
    {
     "name": "stdout",
     "output_type": "stream",
     "text": [
      "Model: \"model_3\"\n",
      "_________________________________________________________________\n",
      "Layer (type)                 Output Shape              Param #   \n",
      "=================================================================\n",
      "input_4 (InputLayer)         [(None, 32, 32, 3)]       0         \n",
      "_________________________________________________________________\n",
      "conv2d_9 (Conv2D)            (None, 32, 32, 32)        896       \n",
      "_________________________________________________________________\n",
      "batch_normalization (BatchNo (None, 32, 32, 32)        128       \n",
      "_________________________________________________________________\n",
      "conv2d_10 (Conv2D)           (None, 32, 32, 32)        9248      \n",
      "_________________________________________________________________\n",
      "batch_normalization_1 (Batch (None, 32, 32, 32)        128       \n",
      "_________________________________________________________________\n",
      "max_pooling2d_2 (MaxPooling2 (None, 16, 16, 32)        0         \n",
      "_________________________________________________________________\n",
      "conv2d_11 (Conv2D)           (None, 16, 16, 64)        18496     \n",
      "_________________________________________________________________\n",
      "batch_normalization_2 (Batch (None, 16, 16, 64)        256       \n",
      "_________________________________________________________________\n",
      "conv2d_12 (Conv2D)           (None, 16, 16, 64)        36928     \n",
      "_________________________________________________________________\n",
      "batch_normalization_3 (Batch (None, 16, 16, 64)        256       \n",
      "_________________________________________________________________\n",
      "max_pooling2d_3 (MaxPooling2 (None, 8, 8, 64)          0         \n",
      "_________________________________________________________________\n",
      "conv2d_13 (Conv2D)           (None, 8, 8, 128)         73856     \n",
      "_________________________________________________________________\n",
      "batch_normalization_4 (Batch (None, 8, 8, 128)         512       \n",
      "_________________________________________________________________\n",
      "conv2d_14 (Conv2D)           (None, 8, 8, 128)         147584    \n",
      "_________________________________________________________________\n",
      "batch_normalization_5 (Batch (None, 8, 8, 128)         512       \n",
      "_________________________________________________________________\n",
      "max_pooling2d_4 (MaxPooling2 (None, 4, 4, 128)         0         \n",
      "_________________________________________________________________\n",
      "flatten_3 (Flatten)          (None, 2048)              0         \n",
      "_________________________________________________________________\n",
      "dropout_7 (Dropout)          (None, 2048)              0         \n",
      "_________________________________________________________________\n",
      "dense_8 (Dense)              (None, 1024)              2098176   \n",
      "_________________________________________________________________\n",
      "dropout_8 (Dropout)          (None, 1024)              0         \n",
      "_________________________________________________________________\n",
      "dense_9 (Dense)              (None, 10)                10250     \n",
      "=================================================================\n",
      "Total params: 2,397,226\n",
      "Trainable params: 2,396,330\n",
      "Non-trainable params: 896\n",
      "_________________________________________________________________\n"
     ]
    }
   ],
   "source": [
    "# Model\n",
    "from tensorflow.keras.layers import BatchNormalization\n",
    "i = Input(shape=x_train[0].shape)\n",
    "\n",
    "x = Conv2D(32, (3, 3), activation='relu', padding='same')(i)\n",
    "x = BatchNormalization()(x)\n",
    "x = Conv2D(32, (3, 3), activation='relu', padding='same')(x) # VGG chains Conv before pooling\n",
    "x = BatchNormalization()(x)\n",
    "x = MaxPooling2D((2, 2))(x)\n",
    "# x = Dropout(0.2)(x) # Commented out not much difference, also does not make much sense\n",
    "x = Conv2D(64, (3, 3), activation='relu', padding='same')(x)\n",
    "x = BatchNormalization()(x)\n",
    "x = Conv2D(64, (3, 3), activation='relu', padding='same')(x)\n",
    "x = BatchNormalization()(x)\n",
    "x = MaxPooling2D((2, 2))(x)\n",
    "# x = Dropout(0.2)(x)\n",
    "x = Conv2D(128, (3, 3), activation='relu', padding='same')(x)\n",
    "x = BatchNormalization()(x)\n",
    "x = Conv2D(128, (3, 3), activation='relu', padding='same')(x)\n",
    "x = BatchNormalization()(x)\n",
    "x = MaxPooling2D((2, 2))(x)\n",
    "# x = Dropout(0.2)(x)\n",
    "\n",
    "# x = GlobalMaxPooling2D()(x) # flatten or max pooling\n",
    "x = Flatten()(x)\n",
    "x = Dropout(0.2)(x)\n",
    "x = Dense(1024, activation='relu')(x)\n",
    "x = Dropout(0.2)(x)\n",
    "x = Dense(K, activation='softmax')(x)\n",
    "\n",
    "model = Model(i, x)\n",
    "model.summary()"
   ]
  },
  {
   "cell_type": "code",
   "execution_count": 40,
   "metadata": {
    "ExecuteTime": {
     "end_time": "2020-04-13T08:16:13.727665Z",
     "start_time": "2020-04-13T08:16:13.689639Z"
    }
   },
   "outputs": [],
   "source": [
    "model.compile(optimizer='adam',\n",
    "              loss='sparse_categorical_crossentropy',\n",
    "              metrics=['accuracy'])"
   ]
  },
  {
   "cell_type": "code",
   "execution_count": 41,
   "metadata": {
    "ExecuteTime": {
     "end_time": "2020-04-13T08:51:46.496029Z",
     "start_time": "2020-04-13T08:16:13.730066Z"
    }
   },
   "outputs": [
    {
     "name": "stdout",
     "output_type": "stream",
     "text": [
      "Train on 50000 samples, validate on 10000 samples\n",
      "Epoch 1/5\n",
      "50000/50000 [==============================] - 283s 6ms/sample - loss: 1.2866 - accuracy: 0.5557 - val_loss: 1.1700 - val_accuracy: 0.5943\n",
      "Epoch 2/5\n",
      "50000/50000 [==============================] - 597s 12ms/sample - loss: 0.8444 - accuracy: 0.7070 - val_loss: 0.8387 - val_accuracy: 0.7069\n",
      "Epoch 3/5\n",
      "50000/50000 [==============================] - 628s 13ms/sample - loss: 0.6902 - accuracy: 0.7624 - val_loss: 0.8019 - val_accuracy: 0.7344\n",
      "Epoch 4/5\n",
      "50000/50000 [==============================] - 358s 7ms/sample - loss: 0.5844 - accuracy: 0.7965 - val_loss: 0.7494 - val_accuracy: 0.7521\n",
      "Epoch 5/5\n",
      "50000/50000 [==============================] - 265s 5ms/sample - loss: 0.5001 - accuracy: 0.8289 - val_loss: 0.6562 - val_accuracy: 0.7812\n"
     ]
    }
   ],
   "source": [
    "# Fit\n",
    "r = model.fit(x_train, y_train, validation_data=(x_test, y_test), epochs=5)"
   ]
  },
  {
   "cell_type": "code",
   "execution_count": 42,
   "metadata": {
    "ExecuteTime": {
     "end_time": "2020-04-13T08:51:56.318145Z",
     "start_time": "2020-04-13T08:51:46.512640Z"
    }
   },
   "outputs": [
    {
     "name": "stdout",
     "output_type": "stream",
     "text": [
      "10000/10000 [==============================] - 9s 856us/sample - loss: 0.6562 - accuracy: 0.7812\n"
     ]
    },
    {
     "data": {
      "text/plain": [
       "[0.6561595206737518, 0.7812]"
      ]
     },
     "execution_count": 42,
     "metadata": {},
     "output_type": "execute_result"
    }
   ],
   "source": [
    "model.evaluate(x_test, y_test)"
   ]
  },
  {
   "cell_type": "markdown",
   "metadata": {},
   "source": [
    "## Small Scale VGG with Data Aug."
   ]
  },
  {
   "cell_type": "code",
   "execution_count": 43,
   "metadata": {
    "ExecuteTime": {
     "end_time": "2020-04-13T08:51:56.975114Z",
     "start_time": "2020-04-13T08:51:56.328990Z"
    }
   },
   "outputs": [],
   "source": [
    "# Model\n",
    "\n",
    "i = Input(shape=x_train[0].shape)\n",
    "\n",
    "x = Conv2D(32, (3, 3), activation='relu', padding='same')(i)\n",
    "x = BatchNormalization()(x)\n",
    "x = Conv2D(32, (3, 3), activation='relu', padding='same')(x) # VGG chains Conv before pooling\n",
    "x = BatchNormalization()(x)\n",
    "x = MaxPooling2D((2, 2))(x)\n",
    "# x = Dropout(0.2)(x) # Commented out not much difference, also does not make much sense\n",
    "x = Conv2D(64, (3, 3), activation='relu', padding='same')(x)\n",
    "x = BatchNormalization()(x)\n",
    "x = Conv2D(64, (3, 3), activation='relu', padding='same')(x)\n",
    "x = BatchNormalization()(x)\n",
    "x = MaxPooling2D((2, 2))(x)\n",
    "# x = Dropout(0.2)(x)\n",
    "x = Conv2D(128, (3, 3), activation='relu', padding='same')(x)\n",
    "x = BatchNormalization()(x)\n",
    "x = Conv2D(128, (3, 3), activation='relu', padding='same')(x)\n",
    "x = BatchNormalization()(x)\n",
    "x = MaxPooling2D((2, 2))(x)\n",
    "# x = Dropout(0.2)(x)\n",
    "\n",
    "# x = GlobalMaxPooling2D()(x) # flatten or max pooling\n",
    "x = Flatten()(x)\n",
    "x = Dropout(0.2)(x)\n",
    "x = Dense(1024, activation='relu')(x)\n",
    "x = Dropout(0.2)(x)\n",
    "x = Dense(K, activation='softmax')(x)\n",
    "\n",
    "model = Model(i, x)\n",
    "\n",
    "model.compile(optimizer='adam',\n",
    "              loss='sparse_categorical_crossentropy',\n",
    "              metrics=['accuracy'])"
   ]
  },
  {
   "cell_type": "code",
   "execution_count": 44,
   "metadata": {
    "ExecuteTime": {
     "end_time": "2020-04-13T09:21:42.620784Z",
     "start_time": "2020-04-13T08:51:56.979454Z"
    }
   },
   "outputs": [
    {
     "name": "stdout",
     "output_type": "stream",
     "text": [
      "WARNING:tensorflow:From <ipython-input-44-c57f3d555125>:9: Model.fit_generator (from tensorflow.python.keras.engine.training) is deprecated and will be removed in a future version.\n",
      "Instructions for updating:\n",
      "Please use Model.fit, which supports generators.\n",
      "WARNING:tensorflow:sample_weight modes were coerced from\n",
      "  ...\n",
      "    to  \n",
      "  ['...']\n",
      "Train for 1562 steps, validate on 10000 samples\n",
      "Epoch 1/6\n",
      "1562/1562 [==============================] - 292s 187ms/step - loss: 1.4389 - accuracy: 0.4992 - val_loss: 1.2224 - val_accuracy: 0.5886\n",
      "Epoch 2/6\n",
      "1562/1562 [==============================] - 293s 188ms/step - loss: 0.9999 - accuracy: 0.6511 - val_loss: 0.9671 - val_accuracy: 0.6769\n",
      "Epoch 3/6\n",
      "1562/1562 [==============================] - 292s 187ms/step - loss: 0.8539 - accuracy: 0.7042 - val_loss: 0.7679 - val_accuracy: 0.7378\n",
      "Epoch 4/6\n",
      "1562/1562 [==============================] - 297s 190ms/step - loss: 0.7581 - accuracy: 0.7410 - val_loss: 0.7149 - val_accuracy: 0.7634\n",
      "Epoch 5/6\n",
      "1562/1562 [==============================] - 300s 192ms/step - loss: 0.6840 - accuracy: 0.7657 - val_loss: 0.7738 - val_accuracy: 0.7371\n",
      "Epoch 6/6\n",
      "1562/1562 [==============================] - 307s 196ms/step - loss: 0.6307 - accuracy: 0.7858 - val_loss: 0.6271 - val_accuracy: 0.7948\n"
     ]
    }
   ],
   "source": [
    "# Fit with data augmentation\n",
    "# Note: if you run this AFTER calling the previous model.fit(), it will CONTINUE training where it left off\n",
    "batch_size = 32\n",
    "data_generator = tf.keras.preprocessing.image.ImageDataGenerator(\n",
    "    width_shift_range=0.1, height_shift_range=0.1, horizontal_flip=True)\n",
    "train_generator = data_generator.flow(x_train, y_train, batch_size)\n",
    "steps_per_epoch = x_train.shape[0] // batch_size\n",
    "r = model.fit_generator(train_generator, validation_data=(\n",
    "    x_test, y_test), steps_per_epoch=steps_per_epoch, epochs=6)"
   ]
  },
  {
   "cell_type": "code",
   "execution_count": 45,
   "metadata": {
    "ExecuteTime": {
     "end_time": "2020-04-13T09:21:51.434931Z",
     "start_time": "2020-04-13T09:21:42.623214Z"
    }
   },
   "outputs": [
    {
     "name": "stdout",
     "output_type": "stream",
     "text": [
      "10000/10000 [==============================] - 8s 848us/sample - loss: 0.6271 - accuracy: 0.7948\n"
     ]
    },
    {
     "data": {
      "text/plain": [
       "[0.6270864507198334, 0.7948]"
      ]
     },
     "execution_count": 45,
     "metadata": {},
     "output_type": "execute_result"
    }
   ],
   "source": [
    "model.evaluate(x_test, y_test)"
   ]
  },
  {
   "cell_type": "markdown",
   "metadata": {},
   "source": [
    "## Small Scale VGG with and without Data Aug."
   ]
  },
  {
   "cell_type": "markdown",
   "metadata": {},
   "source": [
    " - Here we first fit the model without data aug. then we cont. training with data aug."
   ]
  },
  {
   "cell_type": "code",
   "execution_count": 46,
   "metadata": {
    "ExecuteTime": {
     "end_time": "2020-04-13T09:21:52.905548Z",
     "start_time": "2020-04-13T09:21:51.438745Z"
    }
   },
   "outputs": [],
   "source": [
    "# Model\n",
    "\n",
    "i = Input(shape=x_train[0].shape)\n",
    "\n",
    "x = Conv2D(32, (3, 3), activation='relu', padding='same')(i)\n",
    "x = BatchNormalization()(x)\n",
    "x = Conv2D(32, (3, 3), activation='relu', padding='same')(x) # VGG chains Conv before pooling\n",
    "x = BatchNormalization()(x)\n",
    "x = MaxPooling2D((2, 2))(x)\n",
    "# x = Dropout(0.2)(x) # Commented out not much difference, also does not make much sense\n",
    "x = Conv2D(64, (3, 3), activation='relu', padding='same')(x)\n",
    "x = BatchNormalization()(x)\n",
    "x = Conv2D(64, (3, 3), activation='relu', padding='same')(x)\n",
    "x = BatchNormalization()(x)\n",
    "x = MaxPooling2D((2, 2))(x)\n",
    "# x = Dropout(0.2)(x)\n",
    "x = Conv2D(128, (3, 3), activation='relu', padding='same')(x)\n",
    "x = BatchNormalization()(x)\n",
    "x = Conv2D(128, (3, 3), activation='relu', padding='same')(x)\n",
    "x = BatchNormalization()(x)\n",
    "x = MaxPooling2D((2, 2))(x)\n",
    "# x = Dropout(0.2)(x)\n",
    "\n",
    "# x = GlobalMaxPooling2D()(x) # flatten or max pooling\n",
    "x = Flatten()(x)\n",
    "x = Dropout(0.2)(x)\n",
    "x = Dense(1024, activation='relu')(x)\n",
    "x = Dropout(0.2)(x)\n",
    "x = Dense(K, activation='softmax')(x)\n",
    "\n",
    "model = Model(i, x)\n",
    "\n",
    "model.compile(optimizer='adam',\n",
    "              loss='sparse_categorical_crossentropy',\n",
    "              metrics=['accuracy'])"
   ]
  },
  {
   "cell_type": "code",
   "execution_count": 47,
   "metadata": {
    "ExecuteTime": {
     "end_time": "2020-04-13T09:36:47.353152Z",
     "start_time": "2020-04-13T09:21:52.907971Z"
    }
   },
   "outputs": [
    {
     "name": "stdout",
     "output_type": "stream",
     "text": [
      "Train on 50000 samples, validate on 10000 samples\n",
      "Epoch 1/3\n",
      "50000/50000 [==============================] - 298s 6ms/sample - loss: 1.2757 - accuracy: 0.5577 - val_loss: 0.9817 - val_accuracy: 0.6527\n",
      "Epoch 2/3\n",
      "50000/50000 [==============================] - 288s 6ms/sample - loss: 0.8471 - accuracy: 0.7082 - val_loss: 0.8678 - val_accuracy: 0.7045\n",
      "Epoch 3/3\n",
      "50000/50000 [==============================] - 307s 6ms/sample - loss: 0.6957 - accuracy: 0.7616 - val_loss: 0.7347 - val_accuracy: 0.7477\n"
     ]
    }
   ],
   "source": [
    "# Fit without data aug\n",
    "r = model.fit(x_train, y_train, validation_data=(x_test, y_test), epochs=3)"
   ]
  },
  {
   "cell_type": "code",
   "execution_count": 48,
   "metadata": {
    "ExecuteTime": {
     "end_time": "2020-04-13T09:50:56.619748Z",
     "start_time": "2020-04-13T09:36:47.355874Z"
    }
   },
   "outputs": [
    {
     "name": "stdout",
     "output_type": "stream",
     "text": [
      "WARNING:tensorflow:sample_weight modes were coerced from\n",
      "  ...\n",
      "    to  \n",
      "  ['...']\n",
      "Train for 1562 steps, validate on 10000 samples\n",
      "Epoch 1/3\n",
      "1562/1562 [==============================] - 291s 187ms/step - loss: 0.7639 - accuracy: 0.7390 - val_loss: 1.2965 - val_accuracy: 0.6323\n",
      "Epoch 2/3\n",
      "1562/1562 [==============================] - 282s 180ms/step - loss: 0.6925 - accuracy: 0.7652 - val_loss: 0.7636 - val_accuracy: 0.7516\n",
      "Epoch 3/3\n",
      "1562/1562 [==============================] - 268s 172ms/step - loss: 0.6385 - accuracy: 0.7827 - val_loss: 0.6240 - val_accuracy: 0.7903\n",
      "10000/10000 [==============================] - 8s 765us/sample - loss: 0.6240 - accuracy: 0.7903\n"
     ]
    },
    {
     "data": {
      "text/plain": [
       "[0.6240099627017975, 0.7903]"
      ]
     },
     "execution_count": 48,
     "metadata": {},
     "output_type": "execute_result"
    }
   ],
   "source": [
    "# Fit with data aug\n",
    "# There is a bug in TF 2.1 does not inherit weights complt. \n",
    "# Normally better results with tf 2.0\n",
    "r = model.fit_generator(train_generator, validation_data=(x_test, y_test), steps_per_epoch=steps_per_epoch, epochs=3)\n",
    "\n",
    "model.evaluate(x_test, y_test)"
   ]
  }
 ],
 "metadata": {
  "hide_input": false,
  "kernelspec": {
   "display_name": "Python 3",
   "language": "python",
   "name": "python3"
  },
  "language_info": {
   "codemirror_mode": {
    "name": "ipython",
    "version": 3
   },
   "file_extension": ".py",
   "mimetype": "text/x-python",
   "name": "python",
   "nbconvert_exporter": "python",
   "pygments_lexer": "ipython3",
   "version": "3.8.5"
  },
  "toc": {
   "base_numbering": 1,
   "nav_menu": {},
   "number_sections": true,
   "sideBar": true,
   "skip_h1_title": false,
   "title_cell": "Table of Contents",
   "title_sidebar": "Contents",
   "toc_cell": false,
   "toc_position": {},
   "toc_section_display": true,
   "toc_window_display": false
  },
  "varInspector": {
   "cols": {
    "lenName": 16,
    "lenType": 16,
    "lenVar": 40
   },
   "kernels_config": {
    "python": {
     "delete_cmd_postfix": "",
     "delete_cmd_prefix": "del ",
     "library": "var_list.py",
     "varRefreshCmd": "print(var_dic_list())"
    },
    "r": {
     "delete_cmd_postfix": ") ",
     "delete_cmd_prefix": "rm(",
     "library": "var_list.r",
     "varRefreshCmd": "cat(var_dic_list()) "
    }
   },
   "types_to_exclude": [
    "module",
    "function",
    "builtin_function_or_method",
    "instance",
    "_Feature"
   ],
   "window_display": false
  }
 },
 "nbformat": 4,
 "nbformat_minor": 4
}
